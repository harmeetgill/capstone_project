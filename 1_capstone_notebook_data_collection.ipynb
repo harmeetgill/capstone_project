{
 "cells": [
  {
   "cell_type": "markdown",
   "metadata": {},
   "source": [
    "# **IMPORTING DATA USING THE SWAGGER API CLIENT**"
   ]
  },
  {
   "cell_type": "markdown",
   "metadata": {},
   "source": [
    "The data was obtained Bravado - a python client library for the Swagger API client. The data was then held in a main directory, named here as 'cbioportal', followed by section headings referring to the cbioportal repository.\n"
   ]
  },
  {
   "cell_type": "code",
   "execution_count": 1,
   "metadata": {
    "scrolled": true
   },
   "outputs": [],
   "source": [
    "from bravado.client import SwaggerClient\n",
    "from bs4 import BeautifulSoup\n",
    "import requests\n",
    "from tqdm import tqdm\n",
    "cbioportal = SwaggerClient.from_url('https://www.cbioportal.org/api/api-docs',\n",
    "                                    config={\"validate_requests\":False,\"validate_responses\":False})"
   ]
  },
  {
   "cell_type": "code",
   "execution_count": 2,
   "metadata": {
    "scrolled": true
   },
   "outputs": [
    {
     "data": {
      "text/plain": [
       "['Cancer_Types',\n",
       " 'Clinical_Attributes',\n",
       " 'Clinical_Data',\n",
       " 'Clinical_Events',\n",
       " 'Copy_Number_Segments',\n",
       " 'Discrete_Copy_Number_Alterations',\n",
       " 'Gene_Panels',\n",
       " 'Generic_Assays',\n",
       " 'Genes',\n",
       " 'Molecular_Data',\n",
       " 'Molecular_Profiles',\n",
       " 'Mutations',\n",
       " 'Patients',\n",
       " 'Reference_Genome_Genes',\n",
       " 'Resource_Data',\n",
       " 'Resource_Definitions',\n",
       " 'Sample_Lists',\n",
       " 'Samples',\n",
       " 'Structural_Variants',\n",
       " 'Studies',\n",
       " 'Treatments']"
      ]
     },
     "execution_count": 2,
     "metadata": {},
     "output_type": "execute_result"
    }
   ],
   "source": [
    "dir(cbioportal)"
   ]
  },
  {
   "cell_type": "markdown",
   "metadata": {},
   "source": [
    "## USING THE API CLIENT TO PULL SPECIFIC DATA GROUPS"
   ]
  },
  {
   "cell_type": "markdown",
   "metadata": {},
   "source": [
    "I was interested in data relating to clinical attributes for each cancer type and so this was the data that I targeted; the variable was named 'clinical_data'.\n",
    "\n",
    "I also wanted to see how many studies and cancer types there were available and so these data were obtained and named 'cancer_types' and 'studies'."
   ]
  },
  {
   "cell_type": "code",
   "execution_count": 78,
   "metadata": {
    "scrolled": true
   },
   "outputs": [],
   "source": [
    "clinical_data = cbioportal.Clinical_Attributes.getAllClinicalAttributesUsingGET().result()\n",
    "cancer_types = cbioportal.Cancer_Types.getAllCancerTypesUsingGET().result()\n",
    "studies = cbioportal.Studies.getAllStudiesUsingGET().result()"
   ]
  },
  {
   "cell_type": "code",
   "execution_count": 72,
   "metadata": {
    "scrolled": true
   },
   "outputs": [
    {
     "name": "stdout",
     "output_type": "stream",
     "text": [
      "No. of total cancer types:  869\n",
      "No. of total studies:  303\n",
      "No. of total clinical attr:  12266\n",
      "No. of total samples: 118149\n"
     ]
    }
   ],
   "source": [
    "print(\"No. of total cancer types: \", len(cancer_types))\n",
    "print(\"No. of total studies: \", len(studies))\n",
    "print(\"No. of total clinical attr: \", len(clinical_data))\n",
    "print(\"No. of total samples: {}\".format(sum([x.allSampleCount for x in studies])))\n"
   ]
  },
  {
   "cell_type": "code",
   "execution_count": 14,
   "metadata": {
    "scrolled": true
   },
   "outputs": [
    {
     "data": {
      "text/plain": [
       "TypeOfCancer(cancerTypeId='aa', clinicalTrialKeywords='aggressive angiomyxoma', dedicatedColor='LightYellow', name='Aggressive Angiomyxoma', parent='soft_tissue', shortName='AA')"
      ]
     },
     "execution_count": 14,
     "metadata": {},
     "output_type": "execute_result"
    }
   ],
   "source": [
    "cancer_types[0]"
   ]
  },
  {
   "cell_type": "code",
   "execution_count": 73,
   "metadata": {
    "scrolled": true
   },
   "outputs": [
    {
     "data": {
      "text/plain": [
       "CancerStudy(allSampleCount=40, cancerType=None, cancerTypeId='hnsc', citation='Pickering et al. Cancer Discov 2013', cnaSampleCount=None, completeSampleCount=None, description='Comprehensive profiling of 40 oral squamous cell carcinoma tumor/normal sample pairs.', groups='', importDate='2019-02-19 00:00:00', methylationHm27SampleCount=None, miRnaSampleCount=None, mrnaMicroarraySampleCount=None, mrnaRnaSeqSampleCount=None, mrnaRnaSeqV2SampleCount=None, name='Oral Squamous Cell Carcinoma (MD Anderson, Cancer Discov 2013)', pmid='23619168', publicStudy=True, referenceGenome='hg19', rppaSampleCount=None, sequencedSampleCount=None, shortName='Head & neck (MDA)', status=0, studyId='hnsc_mdanderson_2013')"
      ]
     },
     "execution_count": 73,
     "metadata": {},
     "output_type": "execute_result"
    }
   ],
   "source": [
    "studies[0]"
   ]
  },
  {
   "cell_type": "code",
   "execution_count": 38,
   "metadata": {},
   "outputs": [
    {
     "data": {
      "text/plain": [
       "ClinicalAttribute(clinicalAttributeId='ADJUVANT_CHEMO', datatype='STRING', description='Adjuvant Chemotherapy', displayName='Adjuvant Chemotherapy', patientAttribute=True, priority='1', studyId='acbc_mskcc_2015')"
      ]
     },
     "execution_count": 38,
     "metadata": {},
     "output_type": "execute_result"
    }
   ],
   "source": [
    "clinical_data[0]"
   ]
  },
  {
   "cell_type": "markdown",
   "metadata": {},
   "source": [
    "### EXTRACTING CLINICAL DATA"
   ]
  },
  {
   "cell_type": "markdown",
   "metadata": {},
   "source": [
    "In order to extract clinical data without losing context of the study and other associated data, I needed to use the 'getAllClinicalDataInStudyUsingGET(studyId=i).result()' method, which requires input of each study ID. Therefore, I extracted each study ID by using the clinical_data variable, saving the list to 'study_ids_raw' and removing the duplicates, leaving 303 study IDs. Finally, I used a for loop to loop through the study_id list and extract clinical data for each study. The result of this was the 'all_clinical_data' variable containing a list studies within which, each element is a single clinical attribute for that particular study. This gave 441,868 clinical attributes."
   ]
  },
  {
   "cell_type": "code",
   "execution_count": 39,
   "metadata": {
    "scrolled": true
   },
   "outputs": [],
   "source": [
    "study_ids_raw = []\n",
    "\n",
    "for i in range(len(clinical_data)):    \n",
    "    study_ids_raw.append(clinical_data[i].studyId)"
   ]
  },
  {
   "cell_type": "code",
   "execution_count": 40,
   "metadata": {
    "scrolled": true
   },
   "outputs": [
    {
     "data": {
      "text/plain": [
       "12266"
      ]
     },
     "execution_count": 40,
     "metadata": {},
     "output_type": "execute_result"
    }
   ],
   "source": [
    "len(study_ids_raw)"
   ]
  },
  {
   "cell_type": "code",
   "execution_count": 77,
   "metadata": {
    "scrolled": true
   },
   "outputs": [
    {
     "data": {
      "text/plain": [
       "303"
      ]
     },
     "execution_count": 77,
     "metadata": {},
     "output_type": "execute_result"
    }
   ],
   "source": [
    "def remove_duplicates(l):\n",
    "    return list(set(l))\n",
    "\n",
    "study_ids = remove_duplicates(study_ids_raw)\n",
    "len(study_ids)"
   ]
  },
  {
   "cell_type": "code",
   "execution_count": 51,
   "metadata": {
    "scrolled": true
   },
   "outputs": [],
   "source": [
    "all_clinical_data=[]\n",
    "\n",
    "for i in study_ids:\n",
    "    all_clinical_data.append(cbioportal.Clinical_Data.getAllClinicalDataInStudyUsingGET(studyId=i).result())\n",
    "    "
   ]
  },
  {
   "cell_type": "code",
   "execution_count": 64,
   "metadata": {},
   "outputs": [
    {
     "data": {
      "text/plain": [
       "[ClinicalData(clinicalAttribute=None, clinicalAttributeId='CANCER_TYPE', patientId='IC009', sampleId='IC009', studyId='es_iocurie_2014', uniquePatientKey='SUMwMDk6ZXNfaW9jdXJpZV8yMDE0', uniqueSampleKey='SUMwMDk6ZXNfaW9jdXJpZV8yMDE0', value='Bone Cancer'),\n",
       " ClinicalData(clinicalAttribute=None, clinicalAttributeId='CANCER_TYPE_DETAILED', patientId='IC009', sampleId='IC009', studyId='es_iocurie_2014', uniquePatientKey='SUMwMDk6ZXNfaW9jdXJpZV8yMDE0', uniqueSampleKey='SUMwMDk6ZXNfaW9jdXJpZV8yMDE0', value='Ewing Sarcoma'),\n",
       " ClinicalData(clinicalAttribute=None, clinicalAttributeId='FRACTION_GENOME_ALTERED', patientId='IC009', sampleId='IC009', studyId='es_iocurie_2014', uniquePatientKey='SUMwMDk6ZXNfaW9jdXJpZV8yMDE0', uniqueSampleKey='SUMwMDk6ZXNfaW9jdXJpZV8yMDE0', value='0.0005'),\n",
       " ClinicalData(clinicalAttribute=None, clinicalAttributeId='FUSION', patientId='IC009', sampleId='IC009', studyId='es_iocurie_2014', uniquePatientKey='SUMwMDk6ZXNfaW9jdXJpZV8yMDE0', uniqueSampleKey='SUMwMDk6ZXNfaW9jdXJpZV8yMDE0', value='EWSR1-ETS'),\n",
       " ClinicalData(clinicalAttribute=None, clinicalAttributeId='MUTATION_COUNT', patientId='IC009', sampleId='IC009', studyId='es_iocurie_2014', uniquePatientKey='SUMwMDk6ZXNfaW9jdXJpZV8yMDE0', uniqueSampleKey='SUMwMDk6ZXNfaW9jdXJpZV8yMDE0', value='8'),\n",
       " ClinicalData(clinicalAttribute=None, clinicalAttributeId='ONCOTREE_CODE', patientId='IC009', sampleId='IC009', studyId='es_iocurie_2014', uniquePatientKey='SUMwMDk6ZXNfaW9jdXJpZV8yMDE0', uniqueSampleKey='SUMwMDk6ZXNfaW9jdXJpZV8yMDE0', value='ES'),\n",
       " ClinicalData(clinicalAttribute=None, clinicalAttributeId='PRIMARY_SITE', patientId='IC009', sampleId='IC009', studyId='es_iocurie_2014', uniquePatientKey='SUMwMDk6ZXNfaW9jdXJpZV8yMDE0', uniqueSampleKey='SUMwMDk6ZXNfaW9jdXJpZV8yMDE0', value='Pelvis_No_Precise_Localization'),\n",
       " ClinicalData(clinicalAttribute=None, clinicalAttributeId='SOMATIC_STATUS', patientId='IC009', sampleId='IC009', studyId='es_iocurie_2014', uniquePatientKey='SUMwMDk6ZXNfaW9jdXJpZV8yMDE0', uniqueSampleKey='SUMwMDk6ZXNfaW9jdXJpZV8yMDE0', value='Matched'),\n",
       " ClinicalData(clinicalAttribute=None, clinicalAttributeId='CANCER_TYPE', patientId='IC015', sampleId='IC015', studyId='es_iocurie_2014', uniquePatientKey='SUMwMTU6ZXNfaW9jdXJpZV8yMDE0', uniqueSampleKey='SUMwMTU6ZXNfaW9jdXJpZV8yMDE0', value='Bone Cancer'),\n",
       " ClinicalData(clinicalAttribute=None, clinicalAttributeId='CANCER_TYPE_DETAILED', patientId='IC015', sampleId='IC015', studyId='es_iocurie_2014', uniquePatientKey='SUMwMTU6ZXNfaW9jdXJpZV8yMDE0', uniqueSampleKey='SUMwMTU6ZXNfaW9jdXJpZV8yMDE0', value='Ewing Sarcoma'),\n",
       " ClinicalData(clinicalAttribute=None, clinicalAttributeId='FRACTION_GENOME_ALTERED', patientId='IC015', sampleId='IC015', studyId='es_iocurie_2014', uniquePatientKey='SUMwMTU6ZXNfaW9jdXJpZV8yMDE0', uniqueSampleKey='SUMwMTU6ZXNfaW9jdXJpZV8yMDE0', value='0.1825'),\n",
       
      ]
     },
     "execution_count": 64,
     "metadata": {},
     "output_type": "execute_result"
    }
   ],
   "source": [
    "all_clinical_data[0]"
   ]
  },
  {
   "cell_type": "code",
   "execution_count": 55,
   "metadata": {
    "scrolled": true
   },
   "outputs": [],
   "source": [
    "counter = 0\n",
    "for x in all_clinical_data:\n",
    "    for i in all_clinical_data:\n",
    "        counter += 1"
   ]
  },
  {
   "cell_type": "markdown",
   "metadata": {},
   "source": [
    "counter result = 441868"
   ]
  },
  {
   "cell_type": "markdown",
   "metadata": {},
   "source": [
    "Next, to extract useful values from each clinical data element (i.e. clinicalAttributeId, patientId, sampleId, studyId and value), I used a function to extract the number of elements within each list (ie study)."
   ]
  },
  {
   "cell_type": "code",
   "execution_count": 56,
   "metadata": {
    "scrolled": true
   },
   "outputs": [],
   "source": [
    "#Function to find out length of nested list of each study:\n",
    "def get_elements_of_nested_list(element):\n",
    "    count=0\n",
    "    if isinstance (element, list):\n",
    "        for each_element in element:\n",
    "            count += get_elements_of_nested_list(each_element)\n",
    "    else:\n",
    "        count+=1\n",
    "    return count\n"
   ]
  },
  {
   "cell_type": "code",
   "execution_count": 57,
   "metadata": {
    "scrolled": true
   },
   "outputs": [],
   "source": [
    "#Apply function on all clinical data to get nested list lengths:\n",
    "num_of_patients_per_study =[]\n",
    "\n",
    "for i in range(len(all_clinical_data)):\n",
    "    num_of_patients_per_study.append(get_elements_of_nested_list(all_clinical_data[i]))"
   ]
  },
  {
   "cell_type": "code",
   "execution_count": 59,
   "metadata": {
    "scrolled": true
   },
   "outputs": [
    {
     "data": {
      "text/plain": [
       "892"
      ]
     },
     "execution_count": 59,
     "metadata": {},
     "output_type": "execute_result"
    }
   ],
   "source": [
    "#Check the it works using the first study:\n",
    "len(all_clinical_data[0])"
   ]
  },
  {
   "cell_type": "code",
   "execution_count": 60,
   "metadata": {
    "scrolled": true
   },
   "outputs": [
    {
     "name": "stderr",
     "output_type": "stream",
     "text": [
      "100%|██████████| 303/303 [00:00<00:00, 479394.23it/s]\n"
     ]
    }
   ],
   "source": [
    "#Need to minus 1 from length of each nested list to index is not out of range when extracting data groups:\n",
    "num_of_patients_per_study2=[]\n",
    "\n",
    "for x in tqdm(num_of_patients_per_study):\n",
    "    num_of_patients_per_study2.append(x-1)"
   ]
  },
  {
   "cell_type": "code",
   "execution_count": null,
   "metadata": {
    "scrolled": true
   },
   "outputs": [],
   "source": [
    "#extracting all clinical data using second index.\n",
    "\n",
    "all_clinical_id=[]\n",
    "study_list_nums=[]\n",
    "\n",
    "for i in range(len(all_clinical_data)):\n",
    "    study_list_nums.append(i)"
   ]
  },
  {
   "cell_type": "code",
   "execution_count": null,
   "metadata": {
    "scrolled": true
   },
   "outputs": [],
   "source": [
    "patients_study_nums = list(enumerate(num_of_patients_per_study2))\n",
    "patients_study_nums"
   ]
  },
  {
   "cell_type": "markdown",
   "metadata": {},
   "source": [
    "**EXTRACTING EACH LINE OF DATA FROM EACH GROUP IN 'ALL CLINICAL DATA'**\n"
   ]
  },
  {
   "cell_type": "code",
   "execution_count": null,
   "metadata": {
    "scrolled": true
   },
   "outputs": [],
   "source": [
    "final_clinical_id=[]\n",
    "\n",
    "for i, x in patients_study_nums:\n",
    "    counter = 0\n",
    "    while counter<x:\n",
    "        counter +=1\n",
    "        try:\n",
    "            final_clinical_id.append(all_clinical_data[i][counter].clinicalAttributeId)\n",
    "        except:\n",
    "            final_clinical_id.append(np.nan)\n",
    "        "
   ]
  },
  {
   "cell_type": "markdown",
   "metadata": {},
   "source": [
    "len(final_clinical_id) = 1866596"
   ]
  },
  {
   "cell_type": "code",
   "execution_count": null,
   "metadata": {
    "scrolled": true
   },
   "outputs": [],
   "source": [
    "final_patient_id=[]\n",
    "\n",
    "for i, x in patients_study_nums:\n",
    "    counter = 0\n",
    "    while counter<x:\n",
    "        counter +=1\n",
    "        try:\n",
    "            final_patient_id.append(all_clinical_data[i][counter].patientId)\n",
    "        except:\n",
    "            final_patient_id.append(np.nan)"
   ]
  },
  {
   "cell_type": "markdown",
   "metadata": {},
   "source": [
    "len(final_patient_id) = 1866596"
   ]
  },
  {
   "cell_type": "code",
   "execution_count": null,
   "metadata": {
    "scrolled": true
   },
   "outputs": [],
   "source": [
    "final_sample_id=[]\n",
    "\n",
    "for i, x in patients_study_nums:\n",
    "    counter = 0\n",
    "    while counter<x:\n",
    "        counter +=1\n",
    "        try:\n",
    "            final_sample_id.append(all_clinical_data[i][counter].sampleId)\n",
    "        except:\n",
    "            final_sample_id.append(np.nan)"
   ]
  },
  {
   "cell_type": "code",
   "execution_count": null,
   "metadata": {
    "scrolled": true
   },
   "outputs": [],
   "source": [
    "final_study_id=[]\n",
    "\n",
    "for i, x in patients_study_nums:\n",
    "    counter = 0\n",
    "    while counter<x:\n",
    "        counter +=1\n",
    "        try:\n",
    "            final_study_id.append(all_clinical_data[i][counter].studyId)\n",
    "        except:\n",
    "            final_study_id.append(np.nan)"
   ]
  },
  {
   "cell_type": "code",
   "execution_count": null,
   "metadata": {
    "scrolled": true
   },
   "outputs": [],
   "source": [
    "final_value=[]\n",
    "\n",
    "for i, x in patients_study_nums:\n",
    "    counter = 0\n",
    "    while counter<x:\n",
    "        counter +=1\n",
    "        try:\n",
    "            final_value.append(all_clinical_data[i][counter].value)\n",
    "        except:\n",
    "            final_value.append(np.nan)"
   ]
  },
  {
   "cell_type": "markdown",
   "metadata": {},
   "source": [
    "**DATAFRAME MADE**"
   ]
  },
  {
   "cell_type": "code",
   "execution_count": null,
   "metadata": {
    "scrolled": true
   },
   "outputs": [],
   "source": [
    "all_dict_for_df = {\n",
    "    'sample_id': final_sample_id,\n",
    "    'patient_id':final_patient_id,\n",
    "    'study_id': final_study_id,\n",
    "    'clinical_id': final_clinical_id,\n",
    "    'value': final_value}"
   ]
  },
  {
   "cell_type": "code",
   "execution_count": null,
   "metadata": {
    "scrolled": true
   },
   "outputs": [],
   "source": [
    "all_df = pd.DataFrame(all_dict_for_df)\n",
    "all_df"
   ]
  },
  {
   "cell_type": "code",
   "execution_count": null,
   "metadata": {},
   "outputs": [],
   "source": [
    "# all_df.to_csv('all_df_v2')"
   ]
  }
 ],
 "metadata": {
  "hide_input": false,
  "kernelspec": {
   "display_name": "Python 3",
   "language": "python",
   "name": "python3"
  },
  "language_info": {
   "codemirror_mode": {
    "name": "ipython",
    "version": 3
   },
   "file_extension": ".py",
   "mimetype": "text/x-python",
   "name": "python",
   "nbconvert_exporter": "python",
   "pygments_lexer": "ipython3",
   "version": "3.7.6"
  },
  "toc": {
   "base_numbering": 1,
   "nav_menu": {},
   "number_sections": true,
   "sideBar": true,
   "skip_h1_title": false,
   "title_cell": "Table of Contents",
   "title_sidebar": "Contents",
   "toc_cell": false,
   "toc_position": {},
   "toc_section_display": true,
   "toc_window_display": false
  },
  "varInspector": {
   "cols": {
    "lenName": 16,
    "lenType": 16,
    "lenVar": 40
   },
   "kernels_config": {
    "python": {
     "delete_cmd_postfix": "",
     "delete_cmd_prefix": "del ",
     "library": "var_list.py",
     "varRefreshCmd": "print(var_dic_list())"
    },
    "r": {
     "delete_cmd_postfix": ") ",
     "delete_cmd_prefix": "rm(",
     "library": "var_list.r",
     "varRefreshCmd": "cat(var_dic_list()) "
    }
   },
   "types_to_exclude": [
    "module",
    "function",
    "builtin_function_or_method",
    "instance",
    "_Feature"
   ],
   "window_display": false
  }
 },
 "nbformat": 4,
 "nbformat_minor": 4
}
